{
 "cells": [
  {
   "cell_type": "markdown",
   "id": "18039cfd-2fcd-4013-ab53-01fcc9d9c630",
   "metadata": {},
   "source": [
    "# ASSIGNMENT"
   ]
  },
  {
   "cell_type": "markdown",
   "id": "63c76b12-0f74-494c-9d9b-407d69ba2f3d",
   "metadata": {},
   "source": [
    "Q1. What is an Exception in python? What is difference between Exceptions and syntax errors."
   ]
  },
  {
   "cell_type": "markdown",
   "id": "de637e83-03d1-4a24-b5c2-99fc8134bc6e",
   "metadata": {},
   "source": [
    "An exception is an event that occurs during the execution of a program that disrupts the normal flow of instructions. It is a way to handle and respond to errors or exceptional conditions that may arise during program execution.\n",
    "\n",
    "Exceptions can occur due to various reasons, such as invalid input, file not found, network connection issues, arithmetic errors, etc. When an exception occurs, it generates an error message that describes the problem and typically terminates the program's execution unless it is handled properly.\n",
    "\n",
    "Syntax errors, on the other hand, are a different type of issue. They occur when you write code that violates the language's rules for structuring statements. Syntax errors prevent the code from being executed at all. These errors are detected by the Python interpreter during the parsing stage, before the program is run. Common syntax errors include missing colons, incorrect indentation, misspelled keywords, and invalid use of operators.\n",
    "\n",
    "The main difference between exceptions and syntax errors is as follows:\n",
    "\n",
    "1. Exceptions occur during program execution, while syntax errors are detected by the interpreter before the program is run.\n",
    "2. Exceptions disrupt the normal flow of program execution and require handling to avoid termination, while syntax errors prevent the code from running altogether.\n",
    "3. Exceptions are caused by exceptional conditions during program execution, such as invalid input or unexpected behaviors, while syntax errors are caused by violations of the language's syntax rules.\n"
   ]
  },
  {
   "cell_type": "markdown",
   "id": "374b11af-827b-4376-9c4f-b14eab616363",
   "metadata": {},
   "source": [
    "Q2. What happens when an exception is not handled? Explain with an example."
   ]
  },
  {
   "cell_type": "markdown",
   "id": "c218a0d1-fa8f-4f4f-8380-699b8c81a875",
   "metadata": {},
   "source": [
    "When an exception is not handled in Python, it results in the termination of the program's execution. The default behavior of Python is to print a traceback message, which includes information about the exception type, the line of code where the exception occurred, and the sequence of function calls that led to the exception.\n",
    "\n",
    "Let's consider an example to illustrate this:\n",
    "\n",
    "```python\n",
    "def divide_numbers(a, b):\n",
    "    result = a / b\n",
    "    return result\n",
    "\n",
    "num1 = 10\n",
    "num2 = 0\n",
    "\n",
    "result = divide_numbers(num1, num2)\n",
    "print(\"Result:\", result)\n",
    "```\n",
    "\n",
    "In this example, we have a function called `divide_numbers` that takes two numbers as arguments and divides them. In the main part of the code, we attempt to divide `num1` by `num2`, where `num2` is set to 0.\n",
    "\n",
    "When the division by zero occurs, it raises a `ZeroDivisionError` exception because dividing a number by zero is mathematically undefined. Since we haven't provided any exception handling mechanism, the exception will propagate up the call stack until it reaches the top-level of the program.\n",
    "\n",
    "When an unhandled exception occurs, Python prints a traceback message to the console, indicating the exception type (`ZeroDivisionError`), the line of code that caused the exception (`result = a / b`), and the sequence of function calls that led to the exception (`divide_numbers(num1, num2)`).\n",
    "\n",
    "Here's an example traceback message for the code above:\n",
    "\n",
    "```\n",
    "Traceback (most recent call last):\n",
    "  File \"example.py\", line 8, in <module>\n",
    "    result = divide_numbers(num1, num2)\n",
    "  File \"example.py\", line 2, in divide_numbers\n",
    "    result = a / b\n",
    "ZeroDivisionError: division by zero\n",
    "```\n",
    "\n",
    "After printing the traceback, the program terminates abruptly. Any code that was supposed to execute after the point where the exception occurred will not run.\n",
    "\n",
    "To handle the exception and prevent the program from terminating, you can use a try-except block to catch the specific exception and provide an alternative action or error handling code."
   ]
  },
  {
   "cell_type": "markdown",
   "id": "da6d65e5-38dd-4974-8054-42e4ff1a144a",
   "metadata": {},
   "source": [
    "Q3.Which python statements are used to catch and handle exceptions? Explain with an example."
   ]
  },
  {
   "cell_type": "markdown",
   "id": "c4db557f-2184-4d59-9e4e-b28c9fef1c03",
   "metadata": {},
   "source": [
    "In Python, the try-except statement is used to catch and handle exceptions. The try block is used to enclose the code that may raise an exception, and the except block specifies the exception(s) that you want to catch and handle."
   ]
  },
  {
   "cell_type": "code",
   "execution_count": 1,
   "id": "36f91b23-464b-4eb4-a730-d8dd98e4259f",
   "metadata": {},
   "outputs": [
    {
     "name": "stdout",
     "output_type": "stream",
     "text": [
      "division by zero\n"
     ]
    }
   ],
   "source": [
    "def div_nums(a,b):\n",
    "    try:\n",
    "        result=a/b\n",
    "        print(result)\n",
    "    except Exception as e:\n",
    "        print(e)\n",
    "\n",
    "div_nums(10,0)        \n",
    "        "
   ]
  },
  {
   "cell_type": "markdown",
   "id": "0fcc06a8-2099-4d42-9a99-f258b2b59cf1",
   "metadata": {},
   "source": [
    "Q4.Explain with an example:\n",
    "\n",
    "a)try and else\n",
    "\n",
    "b)finally\n",
    "\n",
    "c)raise\n"
   ]
  },
  {
   "cell_type": "markdown",
   "id": "ffacf2b3-2901-46ae-9499-1613af03f6c7",
   "metadata": {},
   "source": [
    "a) try and else:"
   ]
  },
  {
   "cell_type": "code",
   "execution_count": 2,
   "id": "bf015366-a2b7-4533-8cfa-12faa4eee6b3",
   "metadata": {},
   "outputs": [
    {
     "name": "stdout",
     "output_type": "stream",
     "text": [
      "Succesfully done\n"
     ]
    }
   ],
   "source": [
    "try:\n",
    "    f=open(\"test.txt\",\"w\")\n",
    "    f.write(\"This is a message\")\n",
    "except Exception as e:\n",
    "    print(\"Some issue\")\n",
    "else:\n",
    "    f.close()\n",
    "    print(\"Succesfully done\")"
   ]
  },
  {
   "cell_type": "markdown",
   "id": "2fd6420e-8506-4410-b5a3-7dfa2e37fdfe",
   "metadata": {},
   "source": [
    "b) finally:"
   ]
  },
  {
   "cell_type": "code",
   "execution_count": 3,
   "id": "d5a76bc1-63ef-4652-a0fe-371d360e4ce3",
   "metadata": {},
   "outputs": [
    {
     "name": "stdout",
     "output_type": "stream",
     "text": [
      "final\n",
      "always executed\n"
     ]
    }
   ],
   "source": [
    "try:\n",
    "    print(\"final\")\n",
    "finally:\n",
    "    print(\"always executed\")"
   ]
  },
  {
   "cell_type": "markdown",
   "id": "b76c2aff-f1cd-426d-9915-7bac6089b8d3",
   "metadata": {},
   "source": [
    "c) raise:"
   ]
  },
  {
   "cell_type": "code",
   "execution_count": 4,
   "id": "de5c0ef0-538a-4d16-9e70-ec3ed551a9eb",
   "metadata": {},
   "outputs": [],
   "source": [
    "class validateage(Exception):\n",
    "    \n",
    "    def __init__(self,msg):\n",
    "        self.msg=msg"
   ]
  },
  {
   "cell_type": "code",
   "execution_count": 5,
   "id": "890918e8-7622-463f-82d7-2a1cb72c39a9",
   "metadata": {},
   "outputs": [],
   "source": [
    "def validate_age(age):\n",
    "    if age<0:\n",
    "        raise validateage(\"age should not be less not 0\")\n",
    "    elif age>200:\n",
    "        raise validateage(\"age should not be less not greater than 200\")\n",
    "    else:\n",
    "        print(\"age is valid\")"
   ]
  },
  {
   "cell_type": "code",
   "execution_count": 7,
   "id": "a153a25a-55ab-403a-99d7-2d68e0a61f23",
   "metadata": {},
   "outputs": [
    {
     "name": "stdin",
     "output_type": "stream",
     "text": [
      "enter age -9\n"
     ]
    },
    {
     "name": "stdout",
     "output_type": "stream",
     "text": [
      "age should not be less not 0\n"
     ]
    }
   ],
   "source": [
    "try:\n",
    "    age=int(input(\"enter age\"))\n",
    "    validate_age(age)\n",
    "    \n",
    "except validateage as e: \n",
    "    print(e)"
   ]
  },
  {
   "cell_type": "markdown",
   "id": "cd1fcca2-3a3f-42c8-84db-b07ec2d49bb6",
   "metadata": {},
   "source": [
    "Q5.What are Custom Exceptions in python? Why do we need Custom exceptions? Explain with an example."
   ]
  },
  {
   "cell_type": "markdown",
   "id": "1837a5d1-850c-4082-ac43-77b458467864",
   "metadata": {},
   "source": [
    "Custom exceptions in Python are user-defined exceptions that extend the base exception classes provided by Python. They allow you to create your own exception hierarchy specific to your application or domain.\n",
    "\n",
    "There are situations where the built-in exception classes provided by Python may not fully capture the specific errors or exceptional conditions that your program needs to handle. In such cases, you can define your own custom exceptions to represent those specific scenarios. Custom exceptions provide clarity and expressiveness in your code by creating a more meaningful and self-explanatory error hierarchy."
   ]
  },
  {
   "cell_type": "code",
   "execution_count": 8,
   "id": "fc7fd26e-7c64-4d24-986b-2e5fc685362d",
   "metadata": {},
   "outputs": [
    {
     "name": "stdin",
     "output_type": "stream",
     "text": [
      "enter age 9\n"
     ]
    },
    {
     "name": "stdout",
     "output_type": "stream",
     "text": [
      "age is valid\n"
     ]
    }
   ],
   "source": [
    "class validateage(Exception):\n",
    "    \n",
    "    def __init__(self,msg):\n",
    "        self.msg=msg\n",
    "        \n",
    "def validate_age(age):\n",
    "    if age<0:\n",
    "        raise validateage(\"age should not be less not 0\")\n",
    "    elif age>200:\n",
    "        raise validateage(\"age should not be less not greater than 200\")\n",
    "    else:\n",
    "        print(\"age is valid\")\n",
    "        \n",
    "try:\n",
    "    age=int(input(\"enter age\"))\n",
    "    validate_age(age)\n",
    "    \n",
    "except validateage as e: \n",
    "    print(e)       "
   ]
  },
  {
   "cell_type": "markdown",
   "id": "9bf2058d-7e82-4b01-9325-1f4f5cdfcfb5",
   "metadata": {},
   "source": [
    "Q6. Create a Custom exception class. Use this class to handle an exception"
   ]
  },
  {
   "cell_type": "code",
   "execution_count": 9,
   "id": "a51271b7-bf93-4f3d-9433-f187fd293ed0",
   "metadata": {},
   "outputs": [
    {
     "name": "stdin",
     "output_type": "stream",
     "text": [
      "enter age -6\n"
     ]
    },
    {
     "name": "stdout",
     "output_type": "stream",
     "text": [
      "age should not be less not 0\n"
     ]
    }
   ],
   "source": [
    "class CustomException(Exception):\n",
    "    \n",
    "    def __init__(self,msg):\n",
    "        self.msg=msg\n",
    "        \n",
    "def validate_age(age):\n",
    "    if age<0:\n",
    "        raise CustomException(\"age should not be less not 0\")\n",
    "    elif age>200:\n",
    "        raise CustomException(\"age should not be less not greater than 200\")\n",
    "    else:\n",
    "        print(\"age is valid\")\n",
    "        \n",
    "try:\n",
    "    age=int(input(\"enter age\"))\n",
    "    validate_age(age)\n",
    "    \n",
    "except CustomException as e: \n",
    "    print(e)\n"
   ]
  },
  {
   "cell_type": "markdown",
   "id": "dfdaeb58-97ab-4ad3-85ce-e2ce3651e136",
   "metadata": {},
   "source": [
    "----"
   ]
  },
  {
   "cell_type": "code",
   "execution_count": null,
   "id": "1dd5c3c5-6c11-475b-b27a-a76bd2d90982",
   "metadata": {},
   "outputs": [],
   "source": []
  }
 ],
 "metadata": {
  "kernelspec": {
   "display_name": "Python 3 (ipykernel)",
   "language": "python",
   "name": "python3"
  },
  "language_info": {
   "codemirror_mode": {
    "name": "ipython",
    "version": 3
   },
   "file_extension": ".py",
   "mimetype": "text/x-python",
   "name": "python",
   "nbconvert_exporter": "python",
   "pygments_lexer": "ipython3",
   "version": "3.10.8"
  }
 },
 "nbformat": 4,
 "nbformat_minor": 5
}
